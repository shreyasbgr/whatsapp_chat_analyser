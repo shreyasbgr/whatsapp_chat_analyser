{
 "cells": [
  {
   "cell_type": "code",
   "execution_count": 12,
   "id": "62ef90ca",
   "metadata": {},
   "outputs": [],
   "source": [
    "import re\n",
    "import pandas as pd\n",
    "from datetime import datetime\n",
    "from zoneinfo import ZoneInfo\n"
   ]
  },
  {
   "cell_type": "code",
   "execution_count": 13,
   "id": "7fc20889",
   "metadata": {},
   "outputs": [],
   "source": [
    "# Step 1: Load WhatsApp chat text file\n",
    "with open(\"thane_board_gamers_chat.txt\", \"r\", encoding=\"utf-8\") as file:\n",
    "    chat_text = file.read()"
   ]
  },
  {
   "cell_type": "code",
   "execution_count": 14,
   "id": "5b270c2b",
   "metadata": {},
   "outputs": [],
   "source": [
    "# Step 2: Regex pattern (handles AM/PM with optional narrow no-break space)\n",
    "pattern = r'^\\[(\\d{2}/\\d{2}/\\d{2}), (\\d{1,2}:\\d{2}:\\d{2})\\s?\\u202f?(AM|PM)\\] (.*?): (.*)'"
   ]
  },
  {
   "cell_type": "code",
   "execution_count": 15,
   "id": "8a24eaea",
   "metadata": {},
   "outputs": [],
   "source": [
    "# Step 3: System keywords to filter\n",
    "system_keywords = [\n",
    "    \"created this group\", \"added\", \"removed\", \"changed the subject\",\n",
    "    \"changed this group's icon\", \"joined using this group's invite link\",\n",
    "    \"Messages and calls are end-to-end encrypted\"\n",
    "]\n",
    "\n",
    "def is_system_message(text):\n",
    "    return any(keyword.lower() in text.lower() for keyword in system_keywords)"
   ]
  },
  {
   "cell_type": "code",
   "execution_count": 16,
   "id": "76767573",
   "metadata": {},
   "outputs": [],
   "source": [
    "# Step 4: Extract messages\n",
    "messages = []\n",
    "\n",
    "for match in re.finditer(pattern, chat_text, re.MULTILINE):\n",
    "    date_str, time_str, am_pm, sender, message = match.groups()\n",
    "\n",
    "    if is_system_message(message):\n",
    "        continue\n",
    "\n",
    "    # Combine and parse datetime in IST\n",
    "    dt_str = f\"{date_str} {time_str} {am_pm}\"\n",
    "    try:\n",
    "        dt_obj = datetime.strptime(dt_str, \"%y/%m/%d %I:%M:%S %p\")\n",
    "        dt_obj = dt_obj.replace(tzinfo=ZoneInfo(\"Asia/Kolkata\"))  # add IST timezone\n",
    "        dt_utc = dt_obj.astimezone(ZoneInfo(\"UTC\"))  # convert to UTC\n",
    "    except Exception as e:\n",
    "        print(f\"❌ Failed to parse datetime: {dt_str} | Error: {e}\")\n",
    "        continue\n",
    "\n",
    "    messages.append({\n",
    "        \"datetime_ist\": dt_obj.isoformat(),\n",
    "        \"datetime_utc\": dt_utc.isoformat(),\n",
    "        \"sender\": sender,\n",
    "        \"message\": message\n",
    "    })"
   ]
  },
  {
   "cell_type": "code",
   "execution_count": 17,
   "id": "dba22e8b",
   "metadata": {},
   "outputs": [],
   "source": [
    "# Step 5: Create DataFrame\n",
    "df = pd.DataFrame(messages)"
   ]
  },
  {
   "cell_type": "code",
   "execution_count": null,
   "id": "ffdc7d85",
   "metadata": {},
   "outputs": [],
   "source": [
    "# Step 6: Save to CSV\n",
    "df.to_csv(\"whatsapp_messages_normalized.csv\", index=False, encoding=\"utf-8-sig\")"
   ]
  },
  {
   "cell_type": "code",
   "execution_count": 19,
   "id": "3c8c36c9",
   "metadata": {},
   "outputs": [
    {
     "name": "stdout",
     "output_type": "stream",
     "text": [
      "                datetime_ist               datetime_utc  \\\n",
      "0  2021-02-25T09:17:17+05:30  2021-02-25T03:47:17+00:00   \n",
      "1  2021-02-25T20:54:40+05:30  2021-02-25T15:24:40+00:00   \n",
      "2  2021-02-25T21:03:17+05:30  2021-02-25T15:33:17+00:00   \n",
      "3  2021-02-25T21:07:39+05:30  2021-02-25T15:37:39+00:00   \n",
      "4  2022-02-25T02:07:04+05:30  2022-02-24T20:37:04+00:00   \n",
      "\n",
      "                    sender                                            message  \n",
      "0       ~ Aadiitya Agarwal  https://www.instagram.com/reel/DC1yS8yRwYf/?ig...  \n",
      "1      ~ Mustafa Anandwala  https://youtube.com/shorts/xVbU-6TUEmU?si=SP0_...  \n",
      "2          ~ Prithvi Kumar                Title made me clear browser history  \n",
      "3  Sanket Reddit Badminton                                                  😂  \n",
      "4        ‪+91 93255 50855‬  Some one posted that game list...can you pleas...  \n"
     ]
    }
   ],
   "source": [
    "# Step 7: Preview\n",
    "print(df.head())"
   ]
  },
  {
   "cell_type": "code",
   "execution_count": null,
   "id": "4f61dc15",
   "metadata": {},
   "outputs": [],
   "source": [
    "\n",
    "\n"
   ]
  },
  {
   "cell_type": "code",
   "execution_count": null,
   "id": "2a3ba3aa",
   "metadata": {},
   "outputs": [],
   "source": []
  }
 ],
 "metadata": {
  "kernelspec": {
   "display_name": "venv",
   "language": "python",
   "name": "python3"
  },
  "language_info": {
   "codemirror_mode": {
    "name": "ipython",
    "version": 3
   },
   "file_extension": ".py",
   "mimetype": "text/x-python",
   "name": "python",
   "nbconvert_exporter": "python",
   "pygments_lexer": "ipython3",
   "version": "3.10.18"
  }
 },
 "nbformat": 4,
 "nbformat_minor": 5
}
